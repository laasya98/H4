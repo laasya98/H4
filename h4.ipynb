{
 "cells": [
  {
   "cell_type": "code",
   "execution_count": 26,
   "metadata": {},
   "outputs": [],
   "source": [
    "# link to use: https://towardsdatascience.com/faq-build-a-handwritten-text-recognition-system-using-tensorflow-27648fb18519\n",
    "# convert image to character segments: https://stackoverflow.com/questions/10964226/how-to-convert-an-image-into-character-segments\n",
    "# KMNIST convolutional NN: https://github.com/rois-codh/kmnist/blob/master/benchmarks/kuzushiji_mnist_cnn.py\n"
   ]
  },
  {
   "cell_type": "markdown",
   "metadata": {},
   "source": [
    "## Preprocessing: Image Segmentation and Contrast Enhancement"
   ]
  },
  {
   "cell_type": "code",
   "execution_count": 159,
   "metadata": {},
   "outputs": [
    {
     "data": {
      "text/plain": [
       "<matplotlib.image.AxesImage at 0x128c384e0>"
      ]
     },
     "execution_count": 159,
     "metadata": {},
     "output_type": "execute_result"
    },
    {
     "data": {
      "image/png": "[encoded data removed]",
      "text/plain": [
       "<Figure size 432x288 with 1 Axes>"
      ]
     },
     "metadata": {
      "needs_background": "light"
     },
     "output_type": "display_data"
    }
   ],
   "source": [
    "import numpy as np\n",
    "import cv2\n",
    "import matplotlib.pyplot as plt\n",
    "import math\n",
    "from scipy.stats import mode\n",
    "\n",
    "\n",
    "# Load the image\n",
    "img = cv2.imread('thanks.png')\n",
    "\n",
    "# convert to grayscale\n",
    "gray = cv2.cvtColor(img,cv2.COLOR_BGR2GRAY)\n",
    "\n",
    "# smooth the image to avoid noises\n",
    "gray = cv2.medianBlur(gray,5)\n",
    "\n",
    "# Apply adaptive threshold\n",
    "thresh = cv2.adaptiveThreshold(gray,255,1,1,61,2)\n",
    "thresh_color = cv2.cvtColor(thresh,cv2.COLOR_GRAY2BGR)\n",
    "\n",
    "# apply some dilation and erosion to join the gaps\n",
    "# thresh = cv2.dilate(thresh,None,iterations = 3)\n",
    "# thresh = cv2.erode(thresh,None,iterations = 2)\n",
    "\n",
    "# clean up the neighbours\n",
    "# majority based label cleanup\n",
    "#plt.imshow(thresh)\n",
    "\n",
    "\n",
    "def cleanup(img):\n",
    "    clean = np.zeros(np.shape(img))\n",
    "    print(np.shape(img))\n",
    "    for i in range(1, len(img)-1):\n",
    "        for j in range(1, len(img[0])-1):\n",
    "            neighbors = [img[i][j-1], \n",
    "                         img[i][j+1], \n",
    "                         img[i-1][j+1], \n",
    "                         img[i-1][j-1], \n",
    "                         img[i-1][j], \n",
    "                         img[i+1][j],\n",
    "                         img[i+1][j+1], \n",
    "                         img[i+1][j-1]]\n",
    "            if img[i][j] != 0 and 0 in neighbors:\n",
    "                clean[i][j] = 0\n",
    "            else:\n",
    "                clean[i][j] = img[i][j]\n",
    "    return clean\n",
    "\n",
    "# thresh = cleanup(thresh)\n",
    "# print(type(thresh))\n",
    "#plt.imshow(thresh)\n",
    "\n",
    "\n",
    "\n",
    "thresh = cv2.dilate(thresh,None, iterations = 4, anchor = (-1, 1))\n",
    "plt.imshow(thresh)\n",
    "thresh = cv2.erode(thresh,None, iterations = 5)\n",
    "plt.imshow(thresh)\n",
    "\n",
    "#plt.imshow(thresh)\n",
    "\n",
    "\n",
    "# Find the contours\n",
    "im, contours, hierarchy = cv2.findContours(thresh,cv2.RETR_LIST,cv2.CHAIN_APPROX_SIMPLE)\n",
    "\n",
    "# # For each contour, find the bounding rectangle and draw it\n",
    "for cnt in contours:\n",
    "    x,y,w,h = cv2.boundingRect(cnt)\n",
    "    cv2.rectangle(img,(x,y),(x+w,y+h),(0,255,0),2)\n",
    "    cv2.rectangle(thresh_color,(x,y),(x+w,y+h),(0,255,0),2)\n",
    "\n",
    "\n",
    "plt.imshow(img)"
   ]
  },
  {
   "cell_type": "markdown",
   "metadata": {},
   "source": [
    "# CNN for Hiragana Classification using KMNIST-49"
   ]
  },
  {
   "cell_type": "code",
   "execution_count": 160,
   "metadata": {},
   "outputs": [
    {
     "name": "stderr",
     "output_type": "stream",
     "text": [
      "Using TensorFlow backend.\n"
     ]
    },
    {
     "name": "stdout",
     "output_type": "stream",
     "text": [
      "60000 train samples, 10000 test samples\n",
      "WARNING:tensorflow:From /Users/Laasya/anaconda3/lib/python3.6/site-packages/tensorflow/python/framework/op_def_library.py:263: colocate_with (from tensorflow.python.framework.ops) is deprecated and will be removed in a future version.\n",
      "Instructions for updating:\n",
      "Colocations handled automatically by placer.\n",
      "WARNING:tensorflow:From /Users/Laasya/anaconda3/lib/python3.6/site-packages/keras/backend/tensorflow_backend.py:3445: calling dropout (from tensorflow.python.ops.nn_ops) with keep_prob is deprecated and will be removed in a future version.\n",
      "Instructions for updating:\n",
      "Please use `rate` instead of `keep_prob`. Rate should be set to `rate = 1 - keep_prob`.\n",
      "WARNING:tensorflow:From /Users/Laasya/anaconda3/lib/python3.6/site-packages/tensorflow/python/ops/math_ops.py:3066: to_int32 (from tensorflow.python.ops.math_ops) is deprecated and will be removed in a future version.\n",
      "Instructions for updating:\n",
      "Use tf.cast instead.\n",
      "Train on 60000 samples, validate on 10000 samples\n",
      "Epoch 1/1\n",
      "60000/60000 [==============================] - 172s 3ms/step - loss: 0.4550 - acc: 0.8590 - val_loss: 0.3696 - val_acc: 0.8919\n",
      "Train loss: 0.12027810399966936\n",
      "Train accuracy: 0.9652\n",
      "Test loss: 0.36957322931885717\n",
      "Test accuracy: 0.8919\n"
     ]
    }
   ],
   "source": [
    "import keras\n",
    "from keras.models import Sequential\n",
    "from keras.layers import Dense, Dropout, Flatten\n",
    "from keras.layers import Conv2D, MaxPooling2D\n",
    "from keras import backend as K\n",
    "import numpy as np\n",
    "\n",
    "batch_size = 128\n",
    "num_classes = 10\n",
    "epochs = 1\n",
    "\n",
    "# input image dimensions\n",
    "img_rows, img_cols = 28, 28\n",
    "\n",
    "def load(f):\n",
    "    return np.load(f)['arr_0']\n",
    "\n",
    "# Load the data\n",
    "x_train = load('kmnist/kmnist-train-imgs.npz')\n",
    "x_test = load('kmnist/kmnist-test-imgs.npz')\n",
    "y_train = load('kmnist/kmnist-train-labels.npz')\n",
    "y_test = load('kmnist/kmnist-test-labels.npz')\n",
    "\n",
    "if K.image_data_format() == 'channels_first':\n",
    "    x_train = x_train.reshape(x_train.shape[0], 1, img_rows, img_cols)\n",
    "    x_test = x_test.reshape(x_test.shape[0], 1, img_rows, img_cols)\n",
    "    input_shape = (1, img_rows, img_cols)\n",
    "else:\n",
    "    x_train = x_train.reshape(x_train.shape[0], img_rows, img_cols, 1)\n",
    "    x_test = x_test.reshape(x_test.shape[0], img_rows, img_cols, 1)\n",
    "    input_shape = (img_rows, img_cols, 1)\n",
    "\n",
    "x_train = x_train.astype('float32')\n",
    "x_test = x_test.astype('float32')\n",
    "x_train /= 255\n",
    "x_test /= 255\n",
    "print('{} train samples, {} test samples'.format(len(x_train), len(x_test)))\n",
    "\n",
    "# Convert class vectors to binary class matrices\n",
    "y_train = keras.utils.to_categorical(y_train, num_classes)\n",
    "y_test = keras.utils.to_categorical(y_test, num_classes)\n",
    "\n",
    "model = Sequential()\n",
    "model.add(Conv2D(32, kernel_size=(3, 3),\n",
    "                 activation='relu',\n",
    "                 input_shape=input_shape))\n",
    "model.add(Conv2D(64, (3, 3), activation='relu'))\n",
    "model.add(MaxPooling2D(pool_size=(2, 2)))\n",
    "model.add(Dropout(0.25))\n",
    "model.add(Flatten())\n",
    "model.add(Dense(128, activation='relu'))\n",
    "model.add(Dropout(0.5))\n",
    "model.add(Dense(num_classes, activation='softmax'))\n",
    "\n",
    "model.compile(loss=keras.losses.categorical_crossentropy,\n",
    "              optimizer=keras.optimizers.Adadelta(),\n",
    "              metrics=['accuracy'])\n",
    "\n",
    "model.fit(x_train, y_train,\n",
    "          batch_size=batch_size,\n",
    "          epochs=epochs,\n",
    "          verbose=1,\n",
    "          validation_data=(x_test, y_test))\n",
    "\n",
    "train_score = model.evaluate(x_train, y_train, verbose=0)\n",
    "test_score = model.evaluate(x_test, y_test, verbose=0)\n",
    "print('Train loss:', train_score[0])\n",
    "print('Train accuracy:', train_score[1])\n",
    "print('Test loss:', test_score[0])\n",
    "print('Test accuracy:', test_score[1])"
   ]
  },
  {
   "cell_type": "code",
   "execution_count": 162,
   "metadata": {},
   "outputs": [
    {
     "name": "stdout",
     "output_type": "stream",
     "text": [
      "(28, 28)\n",
      "(10000, 28, 28, 1)\n"
     ]
    },
    {
     "data": {
      "text/plain": [
       "10000"
      ]
     },
     "execution_count": 162,
     "metadata": {},
     "output_type": "execute_result"
    },
    {
     "data": {
      "image/png": "[encoded data removed]",
      "text/plain": [
       "<Figure size 432x288 with 1 Axes>"
      ]
     },
     "metadata": {
      "needs_background": "light"
     },
     "output_type": "display_data"
    }
   ],
   "source": [
    "print(np.shape(x_train[0,:,:,0]))\n",
    "print(np.shape(x_test))\n",
    "plt.imshow(x_test[1,:,:,0])\n",
    "\n",
    "x = model.predict(x_test)\n",
    "\n",
    "len(x)\n",
    "\n"
   ]
  },
  {
   "cell_type": "code",
   "execution_count": 165,
   "metadata": {},
   "outputs": [
    {
     "data": {
      "text/plain": [
       "array([0.00327383, 0.02412042, 0.04271048, 0.5784874 , 0.00357403,\n",
       "       0.3139228 , 0.00795085, 0.00381819, 0.01098733, 0.01115467],\n",
       "      dtype=float32)"
      ]
     },
     "execution_count": 165,
     "metadata": {},
     "output_type": "execute_result"
    }
   ],
   "source": [
    "x[0]\n"
   ]
  },
  {
   "cell_type": "code",
   "execution_count": null,
   "metadata": {},
   "outputs": [],
   "source": []
  }
 ],
 "metadata": {
  "kernelspec": {
   "display_name": "Python 3",
   "language": "python",
   "name": "python3"
  },
  "language_info": {
   "codemirror_mode": {
    "name": "ipython",
    "version": 3
   },
   "file_extension": ".py",
   "mimetype": "text/x-python",
   "name": "python",
   "nbconvert_exporter": "python",
   "pygments_lexer": "ipython3",
   "version": "3.6.8"
  }
 },
 "nbformat": 4,
 "nbformat_minor": 2
}
