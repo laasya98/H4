{
 "cells": [
  {
   "cell_type": "code",
   "execution_count": 455,
   "metadata": {},
   "outputs": [],
   "source": [
    "# link to use: https://towardsdatascience.com/faq-build-a-handwritten-text-recognition-system-using-tensorflow-27648fb18519\n",
    "# convert image to character segments: https://stackoverflow.com/questions/10964226/how-to-convert-an-image-into-character-segments\n",
    "# KMNIST convolutional NN: https://github.com/rois-codh/kmnist/blob/master/benchmarks/kuzushiji_mnist_cnn.py\n"
   ]
  },
  {
   "cell_type": "markdown",
   "metadata": {},
   "source": [
    "# DOWNLOAD THE KMNIST DATA BEFORE RUNNING THIS NOTEBOOK\n",
    "https://github.com/rois-codh/kmnist/"
   ]
  },
  {
   "cell_type": "markdown",
   "metadata": {},
   "source": [
    "## Preprocessing: Image Segmentation and Contrast Enhancement"
   ]
  },
  {
   "cell_type": "code",
   "execution_count": 334,
   "metadata": {},
   "outputs": [
    {
     "data": {
      "text/plain": [
       "<matplotlib.image.AxesImage at 0x1a423d32b0>"
      ]
     },
     "execution_count": 334,
     "metadata": {},
     "output_type": "execute_result"
    },
    {
     "data": {
      "image/png": "[encoded data removed]",
      "text/plain": [
       "<Figure size 720x720 with 3 Axes>"
      ]
     },
     "metadata": {
      "needs_background": "light"
     },
     "output_type": "display_data"
    }
   ],
   "source": [
    "import numpy as np\n",
    "import cv2\n",
    "import matplotlib.pyplot as plt\n",
    "import math\n",
    "from scipy.stats import mode\n",
    "\n",
    "\n",
    "# Load the image\n",
    "img = cv2.imread('hi.png')\n",
    "img = np.append(img,[img[0]],axis = 0)\n",
    "\n",
    "# convert to grayscale\n",
    "gray = cv2.cvtColor(img,cv2.COLOR_BGR2GRAY)\n",
    "\n",
    "# smooth the image to avoid noises\n",
    "gray = cv2.medianBlur(gray,5)\n",
    "\n",
    "# Apply adaptive threshold\n",
    "thresh = cv2.adaptiveThreshold(gray,255,1,1,61,2)\n",
    "thresh_color = cv2.cvtColor(thresh,cv2.COLOR_GRAY2BGR)\n",
    "\n",
    "# apply some dilation and erosion to join the gaps\n",
    "# thresh = cv2.dilate(thresh,None,iterations = 3)\n",
    "# thresh = cv2.erode(thresh,None,iterations = 2)\n",
    "\n",
    "# clean up the neighbours\n",
    "# majority based label cleanup\n",
    "#plt.imshow(thresh)\n",
    "def cleanup(img):\n",
    "    clean = np.zeros(np.shape(img))\n",
    "    print(np.shape(img))\n",
    "    for i in range(1, len(img)-1):\n",
    "        for j in range(1, len(img[0])-1):\n",
    "            neighbors = [img[i][j-1], \n",
    "                         img[i][j+1], \n",
    "                         img[i-1][j+1], \n",
    "                         img[i-1][j-1], \n",
    "                         img[i-1][j], \n",
    "                         img[i+1][j],\n",
    "                         img[i+1][j+1], \n",
    "                         img[i+1][j-1]]\n",
    "            if img[i][j] != 0 and 0 in neighbors:\n",
    "                clean[i][j] = 0\n",
    "            else:\n",
    "                clean[i][j] = img[i][j]\n",
    "    return clean\n",
    "\n",
    "# thresh = cleanup(thresh)\n",
    "# print(type(thresh))\n",
    "# plt.imshow(thresh)\n",
    "\n",
    "\n",
    "thresh = cv2.dilate(thresh,None, iterations = 4, anchor = (0, 1))\n",
    "thresh = cv2.erode(thresh,None, iterations = 5)\n",
    "\n",
    "\n",
    "fig = plt.figure(figsize=(10,10))\n",
    "fig.add_subplot(5,1,1)\n",
    "plt.imshow(gray, cmap = \"gray\")\n",
    "fig.add_subplot(5,1,2)\n",
    "plt.imshow(thresh)\n",
    "\n",
    "# Find the contours\n",
    "im, contours, hierarchy = cv2.findContours(thresh,cv2.RETR_LIST,cv2.CHAIN_APPROX_SIMPLE)\n",
    "\n",
    "# # For each contour, find the bounding rectangle and draw it\n",
    "for cnt in contours:\n",
    "    x,y,w,h = cv2.boundingRect(cnt)\n",
    "    cv2.rectangle(img,(x,y),(x+w,y+h),(0,255,0),2)\n",
    "    cv2.rectangle(thresh_color,(x,y),(x+w,y+h),(0,255,0),2)\n",
    "\n",
    "fig.add_subplot(5,1,3)\n",
    "plt.imshow(img)\n"
   ]
  },
  {
   "cell_type": "markdown",
   "metadata": {},
   "source": [
    "# CNN for Hiragana Classification using KMNIST-49"
   ]
  },
  {
   "cell_type": "code",
   "execution_count": 174,
   "metadata": {},
   "outputs": [
    {
     "name": "stdout",
     "output_type": "stream",
     "text": [
      "232365 train samples, 38547 test samples\n",
      "Train on 232365 samples, validate on 38547 samples\n",
      "Epoch 1/1\n",
      "232365/232365 [==============================] - 866s 4ms/step - loss: 0.9502 - acc: 0.7507 - val_loss: 0.6896 - val_acc: 0.8195\n",
      "Train loss: 0.3191068475342827\n",
      "Train accuracy: 0.9149355539778349\n",
      "Test loss: 0.6895805723250205\n",
      "Test accuracy: 0.8194930863574645\n"
     ]
    }
   ],
   "source": [
    "import keras\n",
    "from keras.models import Sequential\n",
    "from keras.layers import Dense, Dropout, Flatten\n",
    "from keras.layers import Conv2D, MaxPooling2D\n",
    "from keras import backend as K\n",
    "import numpy as np\n",
    "\n",
    "batch_size = 128\n",
    "num_classes = 49\n",
    "epochs = 1\n",
    "\n",
    "# input image dimensions\n",
    "img_rows, img_cols = 28, 28\n",
    "\n",
    "def load(f):\n",
    "    return np.load(f)['arr_0']\n",
    "\n",
    "# Load the data\n",
    "x_train = load('kmnist/k49-train-imgs.npz')\n",
    "x_test = load('kmnist/k49-test-imgs.npz')\n",
    "y_train = load('kmnist/k49-train-labels.npz')\n",
    "y_test = load('kmnist/k49-test-labels.npz')\n",
    "\n",
    "if K.image_data_format() == 'channels_first':\n",
    "    x_train = x_train.reshape(x_train.shape[0], 1, img_rows, img_cols)\n",
    "    x_test = x_test.reshape(x_test.shape[0], 1, img_rows, img_cols)\n",
    "    input_shape = (1, img_rows, img_cols)\n",
    "else:\n",
    "    x_train = x_train.reshape(x_train.shape[0], img_rows, img_cols, 1)\n",
    "    x_test = x_test.reshape(x_test.shape[0], img_rows, img_cols, 1)\n",
    "    input_shape = (img_rows, img_cols, 1)\n",
    "\n",
    "x_train = x_train.astype('float32')\n",
    "x_test = x_test.astype('float32')\n",
    "x_train /= 255\n",
    "x_test /= 255\n",
    "print('{} train samples, {} test samples'.format(len(x_train), len(x_test)))\n",
    "\n",
    "# Convert class vectors to binary class matrices\n",
    "y_train = keras.utils.to_categorical(y_train, num_classes)\n",
    "y_test = keras.utils.to_categorical(y_test, num_classes)\n",
    "\n",
    "model = Sequential()\n",
    "model.add(Conv2D(32, kernel_size=(3, 3),\n",
    "                 activation='relu',\n",
    "                 input_shape=input_shape))\n",
    "model.add(Conv2D(64, (3, 3), activation='relu'))\n",
    "model.add(MaxPooling2D(pool_size=(2, 2)))\n",
    "model.add(Dropout(0.25))\n",
    "model.add(Flatten())\n",
    "model.add(Dense(128, activation='relu'))\n",
    "model.add(Dropout(0.5))\n",
    "model.add(Dense(num_classes, activation='softmax'))\n",
    "\n",
    "model.compile(loss=keras.losses.categorical_crossentropy,\n",
    "              optimizer=keras.optimizers.Adadelta(),\n",
    "              metrics=['accuracy'])\n",
    "\n",
    "model.fit(x_train, y_train,\n",
    "          batch_size=batch_size,\n",
    "          epochs=epochs,\n",
    "          verbose=1,\n",
    "          validation_data=(x_test, y_test))\n",
    "\n",
    "train_score = model.evaluate(x_train, y_train, verbose=0)\n",
    "test_score = model.evaluate(x_test, y_test, verbose=0)\n",
    "print('Train loss:', train_score[0])\n",
    "print('Train accuracy:', train_score[1])\n",
    "print('Test loss:', test_score[0])\n",
    "print('Test accuracy:', test_score[1])"
   ]
  },
  {
   "cell_type": "code",
   "execution_count": 458,
   "metadata": {},
   "outputs": [],
   "source": [
    "x = model.predict(x_test)"
   ]
  },
  {
   "cell_type": "code",
   "execution_count": 461,
   "metadata": {},
   "outputs": [
    {
     "name": "stdout",
     "output_type": "stream",
     "text": [
      "(38547, 28, 28, 1)\n",
      "ん\n"
     ]
    },
    {
     "data": {
      "image/png": "[encoded data removed]",
      "text/plain": [
       "<Figure size 432x288 with 1 Axes>"
      ]
     },
     "metadata": {
      "needs_background": "light"
     },
     "output_type": "display_data"
    }
   ],
   "source": [
    "print(np.shape(x_test))\n",
    "plt.imshow(x_test[3,:,:,0], cmap = \"gray\")\n",
    "print(map_unicode[np.argmax(x[3])])"
   ]
  },
  {
   "cell_type": "code",
   "execution_count": 462,
   "metadata": {},
   "outputs": [
    {
     "name": "stdout",
     "output_type": "stream",
     "text": [
      "['あ', 'い', 'う', 'え', 'お', 'か', 'き', 'く', 'け', 'こ', 'さ', 'し', 'す', 'せ', 'そ', 'た', 'ち', 'つ', 'て', 'と', 'な', 'に', 'ぬ', 'ね', 'の', 'は', 'ひ', 'ふ', 'へ', 'ほ', 'ま', 'み', 'む', 'め', 'も', 'や', 'ゆ', 'よ', 'ら', 'り', 'る', 'れ', 'ろ', 'わ', 'ゐ', 'ゑ', 'を', 'ん', 'ゝ']\n",
      "{'a': 'あ', 'i': 'い', 'u': 'う', 'e': 'え', 'o': 'お', 'ka': 'か', 'ki': 'き', 'ku': 'く', 'ke': 'け', 'ko': 'こ', 'sa': 'さ', 'shi': 'し', 'su': 'す', 'se': 'せ', 'so': 'そ', 'ta': 'た', 'chi': 'ち', 'tsu': 'つ', 'te': 'て', 'to': 'と', 'na': 'な', 'ni': 'に', 'nu': 'ぬ', 'ne': 'ね', 'no': 'の', 'ha': 'は', 'hi': 'ひ', 'fu': 'ふ', 'he': 'へ', 'ho': 'ほ', 'ma': 'ま', 'mi': 'み', 'mu': 'む', 'me': 'め', 'mo': 'も', 'ya': 'や', 'yu': 'ゆ', 'yo': 'よ', 'ra': 'ら', 'ri': 'り', 'ru': 'る', 're': 'れ', 'ro': 'ろ', 'wa': 'わ', 'wi': 'ゐ', 'wu': 'ゑ', 'wo': 'を', 'n': 'ん'}\n"
     ]
    }
   ],
   "source": [
    "# create mappings from num to unicode, and syllable to unicode\n",
    "map_unicode = {\n",
    "    0:  u\"\\u3042\", 1:  u\"\\u3044\", 2:  u\"\\u3046\", 3:  u\"\\u3048\", 4:  u\"\\u304A\",\n",
    "    5:  u\"\\u304B\", 6:  u\"\\u304D\", 7:  u\"\\u304F\", 8:  u\"\\u3051\", 9:  u\"\\u3053\",\n",
    "    10: u\"\\u3055\", 11: u\"\\u3057\", 12: u\"\\u3059\", 13: u\"\\u305B\", 14: u\"\\u305D\",\n",
    "    15: u\"\\u305F\", 16: u\"\\u3061\", 17: u\"\\u3064\", 18: u\"\\u3066\", 19: u\"\\u3068\",\n",
    "    20: u\"\\u306A\", 21: u\"\\u306B\", 22: u\"\\u306C\", 23: u\"\\u306D\", 24: u\"\\u306E\",\n",
    "    25: u\"\\u306F\", 26: u\"\\u3072\", 27: u\"\\u3075\", 28: u\"\\u3078\", 29: u\"\\u307B\",\n",
    "    30: u\"\\u307E\", 31: u\"\\u307F\", 32: u\"\\u3080\", 33: u\"\\u3081\", 34: u\"\\u3082\",\n",
    "    35: u\"\\u3084\", 36: u\"\\u3086\", 37: u\"\\u3088\", 38: u\"\\u3089\", 39: u\"\\u308A\",\n",
    "    40: u\"\\u308B\", 41: u\"\\u308C\", 42: u\"\\u308D\", 43: u\"\\u308F\", 44: u\"\\u3090\",\n",
    "    45: u\"\\u3091\", 46: u\"\\u3092\", 47: u\"\\u3093\", 48: u\"\\u309D\"}\n",
    "\n",
    "print([map_unicode[i] for i in range(49)])\n",
    "\n",
    "chars = [\"a\", \"i\", \"u\", \"e\", \"o\",\n",
    "         \"ka\", \"ki\", \"ku\", \"ke\", \"ko\",\n",
    "         \"sa\", \"shi\", \"su\", \"se\", \"so\",\n",
    "         \"ta\", \"chi\", \"tsu\", \"te\", \"to\",\n",
    "         \"na\", \"ni\", \"nu\", \"ne\", \"no\",\n",
    "         \"ha\", \"hi\", \"fu\", \"he\", \"ho\",\n",
    "         \"ma\", \"mi\", \"mu\", \"me\", \"mo\",\n",
    "         \"ya\", \"yu\", \"yo\",\n",
    "         \"ra\", \"ri\", \"ru\", \"re\", \"ro\",\n",
    "         \"wa\", \"wi\", \"wu\", \"wo\",\n",
    "         \"n\"]\n",
    "\n",
    "map_unicode_char = dict()\n",
    "for i in range(len(chars)):\n",
    "    map_unicode_char[chars[i]] = map_unicode[i] \n",
    "    \n",
    "print(map_unicode_char)\n"
   ]
  },
  {
   "cell_type": "code",
   "execution_count": 280,
   "metadata": {},
   "outputs": [
    {
     "data": {
      "image/png": "[encoded data removed]",
      "text/plain": [
       "<Figure size 720x720 with 12 Axes>"
      ]
     },
     "metadata": {
      "needs_background": "light"
     },
     "output_type": "display_data"
    }
   ],
   "source": [
    "# -*- coding: utf-8 -*-\n",
    "fig = plt.figure(figsize=(10,10))\n",
    "\n",
    "for i in range(12):\n",
    "    fig.add_subplot(3,4,i+1)\n",
    "    plt.imshow(x_test[i,:,:,0], cmap = \"gray\")\n",
    "    plt.title(chars[i])\n",
    "    \n"
   ]
  },
  {
   "cell_type": "code",
   "execution_count": 467,
   "metadata": {},
   "outputs": [
    {
     "name": "stdout",
     "output_type": "stream",
     "text": [
      "19 と\n"
     ]
    },
    {
     "data": {
      "image/png": "[encoded data removed]",
      "text/plain": [
       "<Figure size 432x288 with 1 Axes>"
      ]
     },
     "metadata": {
      "needs_background": "light"
     },
     "output_type": "display_data"
    }
   ],
   "source": [
    "subject = x_test[0].reshape(1,28,28,1)\n",
    "plt.imshow(subject[0,:,:,0], cmap = \"gray\")\n",
    "y = model.predict(subject)\n",
    "print(np.argmax(y), map_unicode[19])"
   ]
  },
  {
   "cell_type": "code",
   "execution_count": 472,
   "metadata": {},
   "outputs": [
    {
     "name": "stdout",
     "output_type": "stream",
     "text": [
      "top 3 character numbers:  7 ,  9 ,  5\n",
      "top 3 results for  ko :  く ,  こ ,  か\n",
      "top 3 character numbers:  25 ,  47 ,  48\n",
      "top 3 results for  n :  は ,  ん ,  ゝ\n",
      "top 3 character numbers:  25 ,  38 ,  12\n",
      "top 3 results for  ni :  は ,  ら ,  す\n",
      "top 3 character numbers:  11 ,  30 ,  17\n",
      "top 3 results for  chi :  し ,  ま ,  つ\n",
      "top 3 character numbers:  13 ,  8 ,  33\n",
      "top 3 results for  wa :  せ ,  け ,  め\n"
     ]
    },
    {
     "data": {
      "image/png": "[encoded data removed]",
      "text/plain": [
       "<Figure size 720x720 with 5 Axes>"
      ]
     },
     "metadata": {
      "needs_background": "light"
     },
     "output_type": "display_data"
    }
   ],
   "source": [
    "# data cleanup\n",
    "\n",
    "def set_pix(im):\n",
    "    for i in range(len(im)):\n",
    "        for j in range(len(im[0])):\n",
    "            val = 1-im[i][j]/255\n",
    "            if val <= .2:\n",
    "                im[i][j] = 0.0\n",
    "            else:\n",
    "                im[i][j] = val\n",
    "    return im\n",
    " \n",
    "def format_char(lo, hi):\n",
    "    char = img[:,lo:hi,:]\n",
    "    if lo == 0:\n",
    "        char[:,22:,:] = char[:,16:22,:]\n",
    "\n",
    "    char = cv2.cvtColor(char,cv2.COLOR_BGR2GRAY)\n",
    "    char = np.array(char, dtype=object)\n",
    "    char = set_pix(char)\n",
    "\n",
    "    char = char.reshape(1,28,28,1)\n",
    "    char = np.array(char, dtype=\"float32\")\n",
    "    \n",
    "    pic = char[0,:,:,0]\n",
    "    return char, pic\n",
    "\n",
    "##### get letters from image ##########\n",
    "\n",
    "## TODO: USE SEGMENTATIONS\n",
    "## prevent false positives\n",
    "## get number of pix in bounding box\n",
    "## smallest must have at least 2/3 largest\n",
    "## cv2.reshape? to get it to 28 x 28\n",
    "    \n",
    "## ko\n",
    "img = cv2.imread('hi.png')\n",
    "img = np.append(img,[img[0]],axis = 0)\n",
    "ko, im_ko = format_char(0, 28)\n",
    "\n",
    "## n\n",
    "img = cv2.imread('hi.png')\n",
    "img = np.append(img,[img[0]],axis = 0)\n",
    "n, im_n = format_char(15,43)\n",
    "\n",
    "## ni\n",
    "ni, im_ni = format_char(43, 71)\n",
    "\n",
    "## chi\n",
    "chi, im_chi = format_char(65, 93)\n",
    "\n",
    "## wa\n",
    "wa, im_wa = format_char(87, 115)\n",
    "\n",
    "\n",
    "##### Predictions ##########\n",
    "\n",
    "def predict_char(char, name):\n",
    "    pred = model.predict(char)\n",
    "    \n",
    "    sort = pred.argsort()[0]\n",
    "    res = sort[-1]\n",
    "    snd = sort[-2]\n",
    "    thr = sort[-3]\n",
    "    \n",
    "#     if name == \"chi\":\n",
    "#         # 31 hmm\n",
    "#         print(pred)\n",
    "#         print(sort)\n",
    "#         print(max(pred[0]),pred[0][16])\n",
    "#         print(49-np.where(sort == 16)[0])\n",
    "    \n",
    "#     if name == \"wa\":\n",
    "#         # 31 hmm\n",
    "#         print(pred)\n",
    "#         print(sort)\n",
    "#         print(max(pred[0]),pred[0][25])\n",
    "#         print(49-np.where(sort == 25)[0])\n",
    "    \n",
    "    m1 = map_unicode[res] \n",
    "    m2 = map_unicode[snd]\n",
    "    m3 = map_unicode[thr]\n",
    "    \n",
    "    print(\"top 3 character numbers: \", res, \", \", snd, \", \", thr)\n",
    "    print(\"top 3 results for \",name, \": \", m1, \", \", m2, \", \", m3 )\n",
    "\n",
    "predict_char(ko, \"ko\")\n",
    "predict_char(n, \"n\")\n",
    "predict_char(ni, \"ni\")\n",
    "predict_char(chi, \"chi\")\n",
    "predict_char(wa, \"wa\")\n",
    "\n",
    "# print(map_unicode[16])\n",
    "\n",
    "\n",
    "##### Display ##########\n",
    "\n",
    "fig = plt.figure(figsize=(10,10))\n",
    "fig.add_subplot(1,5,1)\n",
    "plt.imshow(im_ko, cmap = \"gray\")\n",
    "plt.title(\"ko\")\n",
    "fig.add_subplot(1,5,2)\n",
    "plt.imshow(im_n, cmap = \"gray\")\n",
    "plt.title(\"n\")\n",
    "fig.add_subplot(1,5,3)\n",
    "plt.imshow(im_ni, cmap = \"gray\")\n",
    "plt.title(\"ni\")\n",
    "fig.add_subplot(1,5,4)\n",
    "plt.imshow(im_chi, cmap = \"gray\")\n",
    "plt.title(\"chi\")\n",
    "fig.add_subplot(1,5,5)\n",
    "plt.imshow(im_wa, cmap = \"gray\")\n",
    "plt.title(\"wa\");\n",
    "\n"
   ]
  },
  {
   "cell_type": "code",
   "execution_count": 454,
   "metadata": {},
   "outputs": [
    {
     "name": "stdout",
     "output_type": "stream",
     "text": [
      "わたして\n",
      "[['hand it over', 1000, True, False], ['pass', 1000, True, False], ['Me', 0, True, False], ['Te I', 0, True, False]]\n"
     ]
    }
   ],
   "source": [
    "##### TRANSLATION ######\n",
    "from googletrans import Translator\n",
    "\n",
    "translator = Translator()\n",
    "\n",
    "#word = [\"to\", \"te\", \"mo\", \"ya\", \"sa\", \"shi\", \"i\", \"hi\", \"to\"]\n",
    "#word = [\"wa\", \"ta\", \"shi\", \"no\", \"na\", \"ma\", \"e\", \"ha\"]\n",
    "word = [\"wa\", \"ta\", \"shi\", \"te\"]\n",
    "string = \"\".join([map_unicode_char[st] for st in word])\n",
    "print(string)\n",
    "\n",
    "print(translator.translate(string).extra_data[\"possible-translations\"][0][2])"
   ]
  },
  {
   "cell_type": "code",
   "execution_count": null,
   "metadata": {},
   "outputs": [],
   "source": []
  }
 ],
 "metadata": {
  "kernelspec": {
   "display_name": "Python 3",
   "language": "python",
   "name": "python3"
  },
  "language_info": {
   "codemirror_mode": {
    "name": "ipython",
    "version": 3
   },
   "file_extension": ".py",
   "mimetype": "text/x-python",
   "name": "python",
   "nbconvert_exporter": "python",
   "pygments_lexer": "ipython3",
   "version": "3.6.8"
  }
 },
 "nbformat": 4,
 "nbformat_minor": 2
}
