{
 "cells": [
  {
   "cell_type": "code",
   "execution_count": 1,
   "metadata": {},
   "outputs": [],
   "source": [
    "# link to use: https://towardsdatascience.com/faq-build-a-handwritten-text-recognition-system-using-tensorflow-27648fb18519\n",
    "# convert image to character segments: https://stackoverflow.com/questions/10964226/how-to-convert-an-image-into-character-segments\n",
    "# KMNIST convolutional NN: https://github.com/rois-codh/kmnist/blob/master/benchmarks/kuzushiji_mnist_cnn.py\n"
   ]
  },
  {
   "cell_type": "markdown",
   "metadata": {},
   "source": [
    "# DOWNLOAD THE KMNIST DATA BEFORE RUNNING THIS NOTEBOOK\n",
    "https://github.com/rois-codh/kmnist/"
   ]
  },
  {
   "cell_type": "markdown",
   "metadata": {},
   "source": [
    "# Preprocessing: Hiragana to Unicode Mapping"
   ]
  },
  {
   "cell_type": "code",
   "execution_count": 25,
   "metadata": {},
   "outputs": [],
   "source": [
    "# create mappings from num to unicode, and syllable to unicode\n",
    "map_unicode = {\n",
    "    0:  u\"\\u3042\", 1:  u\"\\u3044\", 2:  u\"\\u3046\", 3:  u\"\\u3048\", 4:  u\"\\u304A\",\n",
    "    5:  u\"\\u304B\", 6:  u\"\\u304D\", 7:  u\"\\u304F\", 8:  u\"\\u3051\", 9:  u\"\\u3053\",\n",
    "    10: u\"\\u3055\", 11: u\"\\u3057\", 12: u\"\\u3059\", 13: u\"\\u305B\", 14: u\"\\u305D\",\n",
    "    15: u\"\\u305F\", 16: u\"\\u3061\", 17: u\"\\u3064\", 18: u\"\\u3066\", 19: u\"\\u3068\",\n",
    "    20: u\"\\u306A\", 21: u\"\\u306B\", 22: u\"\\u306C\", 23: u\"\\u306D\", 24: u\"\\u306E\",\n",
    "    25: u\"\\u306F\", 26: u\"\\u3072\", 27: u\"\\u3075\", 28: u\"\\u3078\", 29: u\"\\u307B\",\n",
    "    30: u\"\\u307E\", 31: u\"\\u307F\", 32: u\"\\u3080\", 33: u\"\\u3081\", 34: u\"\\u3082\",\n",
    "    35: u\"\\u3084\", 36: u\"\\u3086\", 37: u\"\\u3088\", 38: u\"\\u3089\", 39: u\"\\u308A\",\n",
    "    40: u\"\\u308B\", 41: u\"\\u308C\", 42: u\"\\u308D\", 43: u\"\\u308F\", 44: u\"\\u3090\",\n",
    "    45: u\"\\u3091\", 46: u\"\\u3092\", 47: u\"\\u3093\", 48: u\"\\u309D\"}\n",
    "\n",
    "# print([map_unicode[i] for i in range(49)])\n",
    "\n",
    "chars = [\"a\", \"i\", \"u\", \"e\", \"o\",\n",
    "         \"ka\", \"ki\", \"ku\", \"ke\", \"ko\",\n",
    "         \"sa\", \"shi\", \"su\", \"se\", \"so\",\n",
    "         \"ta\", \"chi\", \"tsu\", \"te\", \"to\",\n",
    "         \"na\", \"ni\", \"nu\", \"ne\", \"no\",\n",
    "         \"ha\", \"hi\", \"fu\", \"he\", \"ho\",\n",
    "         \"ma\", \"mi\", \"mu\", \"me\", \"mo\",\n",
    "         \"ya\", \"yu\", \"yo\",\n",
    "         \"ra\", \"ri\", \"ru\", \"re\", \"ro\",\n",
    "         \"wa\", \"wi\", \"wu\", \"wo\",\n",
    "         \"n\"]\n",
    "map_num_char = dict()\n",
    "map_unicode_char = dict()\n",
    "for i in range(len(chars)):\n",
    "    map_unicode_char[chars[i]] = map_unicode[i] \n",
    "    map_num_char[i] = chars[i]\n",
    "\n",
    "# print(map_unicode_char)"
   ]
  },
  {
   "cell_type": "markdown",
   "metadata": {},
   "source": [
    "## Preprocessing: Image Segmentation and Contrast Enhancement"
   ]
  },
  {
   "cell_type": "code",
   "execution_count": 121,
   "metadata": {},
   "outputs": [
    {
     "name": "stdout",
     "output_type": "stream",
     "text": [
      "[(0, 12), (23, 35), (48, 62), (74, 85), (96, 115)]\n"
     ]
    },
    {
     "data": {
      "text/plain": [
       "<matplotlib.image.AxesImage at 0x1a68edbe80>"
      ]
     },
     "execution_count": 121,
     "metadata": {},
     "output_type": "execute_result"
    },
    {
     "data": {
      "image/png": "[encoded data removed]",
      "text/plain": [
       "<Figure size 720x720 with 3 Axes>"
      ]
     },
     "metadata": {
      "needs_background": "light"
     },
     "output_type": "display_data"
    }
   ],
   "source": [
    "import numpy as np\n",
    "import cv2\n",
    "import matplotlib.pyplot as plt\n",
    "import math\n",
    "from scipy.stats import mode\n",
    "\n",
    "\n",
    "# Load the image\n",
    "img = cv2.imread('hi.png')\n",
    "img = np.append(img,[img[0]],axis = 0)\n",
    "\n",
    "# convert to grayscale\n",
    "gray = cv2.cvtColor(img,cv2.COLOR_BGR2GRAY)\n",
    "\n",
    "# smooth the image to avoid noises\n",
    "gray = cv2.medianBlur(gray,5)\n",
    "\n",
    "# Apply adaptive threshold\n",
    "thresh = cv2.adaptiveThreshold(gray,255,1,1,61,2)\n",
    "thresh_color = cv2.cvtColor(thresh,cv2.COLOR_GRAY2BGR)\n",
    "\n",
    "# apply some dilation and erosion to join the gaps\n",
    "# thresh = cv2.dilate(thresh,None,iterations = 3)\n",
    "# thresh = cv2.erode(thresh,None,iterations = 2)\n",
    "\n",
    "# clean up the neighbours\n",
    "# majority based label cleanup\n",
    "# plt.imshow(thresh)\n",
    "def cleanup(img):\n",
    "    clean = np.zeros(np.shape(img))\n",
    "    print(np.shape(img))\n",
    "    for i in range(1, len(img)-1):\n",
    "        for j in range(1, len(img[0])-1):\n",
    "            neighbors = [img[i][j-1], \n",
    "                         img[i][j+1], \n",
    "                         img[i-1][j+1], \n",
    "                         img[i-1][j-1], \n",
    "                         img[i-1][j], \n",
    "                         img[i+1][j],\n",
    "                         img[i+1][j+1], \n",
    "                         img[i+1][j-1]]\n",
    "            if img[i][j] != 0 and 0 in neighbors:\n",
    "                clean[i][j] = 0\n",
    "            else:\n",
    "                clean[i][j] = img[i][j]\n",
    "    return clean\n",
    "\n",
    "# thresh = cleanup(thresh)\n",
    "# print(type(thresh))\n",
    "# plt.imshow(thresh)\n",
    "\n",
    "\n",
    "thresh = cv2.dilate(thresh,None, iterations = 4, anchor = (0, 1))\n",
    "thresh = cv2.erode(thresh,None, iterations = 5)\n",
    "\n",
    "\n",
    "fig = plt.figure(figsize=(10,10))\n",
    "fig.add_subplot(5,1,1)\n",
    "plt.imshow(img, cmap = \"gray\")\n",
    "fig.add_subplot(5,1,2)\n",
    "plt.imshow(thresh)\n",
    "\n",
    "# Find the contours\n",
    "im, contours, hierarchy = cv2.findContours(thresh,cv2.RETR_LIST,cv2.CHAIN_APPROX_SIMPLE)\n",
    "bounds = []\n",
    "\n",
    "# # For each contour, find the bounding rectangle and draw it\n",
    "for cnt in contours:\n",
    "    x,y,w,h = cv2.boundingRect(cnt)\n",
    "    \n",
    "    # not noise\n",
    "    if w > 3:\n",
    "        bounds.append((x,x+w))\n",
    "        cv2.rectangle(img,(x,y),(x+w,y+h),(0,255,0),2)\n",
    "        cv2.rectangle(thresh_color,(x,y),(x+w,y+h),(0,255,0),2)\n",
    "\n",
    "fig.add_subplot(5,1,3)\n",
    "\n",
    "bounds = sorted(bounds)\n",
    "print(bounds)\n",
    "\n",
    "plt.imshow(img)\n"
   ]
  },
  {
   "cell_type": "markdown",
   "metadata": {},
   "source": [
    "# Preprocessing: Using Segmentation to Create Model-Applicable Test Images"
   ]
  },
  {
   "cell_type": "code",
   "execution_count": 283,
   "metadata": {},
   "outputs": [
    {
     "data": {
      "text/plain": [
       "<matplotlib.image.AxesImage at 0x1a6e7c5160>"
      ]
     },
     "execution_count": 283,
     "metadata": {},
     "output_type": "execute_result"
    },
    {
     "data": {
      "image/png": "[encoded data removed]",
      "text/plain": [
       "<Figure size 432x288 with 1 Axes>"
      ]
     },
     "metadata": {
      "needs_background": "light"
     },
     "output_type": "display_data"
    }
   ],
   "source": [
    "# data cleanup\n",
    "def get_bounds(b):\n",
    "    \n",
    "    lo, hi = b[0], b[0]\n",
    "    \n",
    "    if lo != 0:\n",
    "        width = lo - hi\n",
    "        pad = (28 - width)//2\n",
    "        lo = lo - pad\n",
    "        hi = hi + pad\n",
    "\n",
    "        if hi - lo == 27:\n",
    "            hi += 1\n",
    "            \n",
    "    if lo == 0:\n",
    "        hi += (28 - hi)\n",
    "    \n",
    "    return lo,hi\n",
    "    \n",
    "\n",
    "\n",
    "# set_pix(im) uses custom thresholding to define the grayscale values in range [0.0, 1.0] for the image im\n",
    "def set_pix(im):\n",
    "    for i in range(len(im)):\n",
    "        for j in range(len(im[0])):\n",
    "            val = 1-im[i][j]/255\n",
    "            if val <= .3:\n",
    "                im[i][j] = 0.0\n",
    "            else:\n",
    "                im[i][j] = val\n",
    "    return im\n",
    " \n",
    "# format_char(lo, hi) takes in the bounds for width and height from the segmentation and returns a \n",
    "# formatted character that can be directly passed into the trained model \n",
    "def format_char(lo, hi):\n",
    "    char = img[:,lo:hi,:]\n",
    "    if lo == 0:\n",
    "        char[:,22:,:] = char[:,16:22,:]\n",
    "\n",
    "    char = cv2.cvtColor(char,cv2.COLOR_BGR2GRAY)\n",
    "    char = np.array(char, dtype=object)\n",
    "    char = set_pix(char)\n",
    "\n",
    "    char = char.reshape(1,28,28,1)\n",
    "    char = np.array(char, dtype=\"float32\")\n",
    "    \n",
    "    pic = char[0,:,:,0]\n",
    "    return char, pic\n",
    "\n",
    "##### get letters from image ##########\n",
    "\n",
    "## TODO: USE SEGMENTATIONS\n",
    "## prevent false positives\n",
    "## get number of pix in bounding box\n",
    "## smallest must have at least 2/3 largest\n",
    "## cv2.reshape? to get it to 28 x 28\n",
    "    \n",
    "## ko\n",
    "img = cv2.imread('hi.png')\n",
    "img = np.append(img,[img[0]],axis = 0)\n",
    "k0, k1 = get_bounds(bounds[0])\n",
    "ko, im_ko = format_char(k0,k1)\n",
    "\n",
    "## n\n",
    "img = cv2.imread('hi.png')\n",
    "img = np.append(img,[img[0]],axis = 0)\n",
    "n0, n1 = get_bounds(bounds[1])\n",
    "n, im_n = format_char(15,43)\n",
    "\n",
    "## ni\n",
    "ni0, ni1 = get_bounds(bounds[2])\n",
    "ni, im_ni = format_char(43, 71)\n",
    "\n",
    "## chi\n",
    "chi0, chi1 = get_bounds(bounds[3])\n",
    "chi, im_chi = format_char(65, 93)\n",
    "\n",
    "## wa\n",
    "wa0, wa1 = get_bounds(bounds[4])\n",
    "wa, im_wa = format_char(87, 115)\n",
    "\n",
    "\n",
    "def fix(im):\n",
    "    for i in range(len(im)):\n",
    "        for j in range(len(im[0])):\n",
    "            val = im[i][j]\n",
    "            if val <= .2:\n",
    "                im[i][j] = 0.0\n",
    "            else:\n",
    "                im[i][j] = im[i][j]+.2\n",
    "    return im\n",
    "\n",
    "\n",
    "# scale images to stretch over full 28 x 28 pixel grid\n",
    "\n",
    "im_ko = cv2.resize(im_ko, (40, 40))[40-28:,:28]\n",
    "im_ko = cv2.erode(im_ko,None, iterations = 1)\n",
    "ko[0,:,:,0] = im_ko\n",
    "\n",
    "im_ni = cv2.resize(im_ni, (50, 50))[10:10+28,11:11+28]\n",
    "im_ni = fix(cv2.erode(im_ni,None, iterations = 1))\n",
    "ni[0,:,:,0] = im_ni\n",
    "\n",
    "\n",
    "im_chi = cv2.resize(im_chi, (28, 58))[10:10+28]\n",
    "#im_chi = cv2.resize(im_chi, (28, 50))\n",
    "# slic = cv2.resize(im_chi[:,6:21], (7, 28))\n",
    "\n",
    "# im_chi[:,6:21] = 0\n",
    "# im_chi[:,10:17] = slic\n",
    "\n",
    "im_chi = cv2.erode(im_chi,None, iterations = 1)\n",
    "im_chi = fix(im_chi)\n",
    "im_chi = cv2.dilate(im_chi,None, iterations = 1)\n",
    "im_chi = cv2.erode(im_chi,None, iterations = 1)\n",
    "\n",
    "chi[0,:,:,0] = im_chi\n",
    "\n",
    "\n",
    "im_wa = fix(cv2.resize(im_wa, (50, 50))[5:5+28,14:14+28])\n",
    "#im_wa = cv2.erode(im_wa,None, iterations = 1)\n",
    "wa[0,:,:,0] = im_wa\n",
    "plt.imshow(im_chi, cmap = \"gray\")\n"
   ]
  },
  {
   "cell_type": "markdown",
   "metadata": {},
   "source": [
    "# Neural Network Model: CNN for Hiragana Classification using KMNIST-49"
   ]
  },
  {
   "cell_type": "code",
   "execution_count": 3,
   "metadata": {},
   "outputs": [
    {
     "name": "stderr",
     "output_type": "stream",
     "text": [
      "Using TensorFlow backend.\n"
     ]
    },
    {
     "name": "stdout",
     "output_type": "stream",
     "text": [
      "232365 train samples, 38547 test samples\n",
      "WARNING:tensorflow:From /Users/Laasya/anaconda3/lib/python3.6/site-packages/tensorflow/python/framework/op_def_library.py:263: colocate_with (from tensorflow.python.framework.ops) is deprecated and will be removed in a future version.\n",
      "Instructions for updating:\n",
      "Colocations handled automatically by placer.\n",
      "WARNING:tensorflow:From /Users/Laasya/anaconda3/lib/python3.6/site-packages/keras/backend/tensorflow_backend.py:3445: calling dropout (from tensorflow.python.ops.nn_ops) with keep_prob is deprecated and will be removed in a future version.\n",
      "Instructions for updating:\n",
      "Please use `rate` instead of `keep_prob`. Rate should be set to `rate = 1 - keep_prob`.\n",
      "WARNING:tensorflow:From /Users/Laasya/anaconda3/lib/python3.6/site-packages/tensorflow/python/ops/math_ops.py:3066: to_int32 (from tensorflow.python.ops.math_ops) is deprecated and will be removed in a future version.\n",
      "Instructions for updating:\n",
      "Use tf.cast instead.\n",
      "Train on 232365 samples, validate on 38547 samples\n",
      "Epoch 1/3\n",
      "232365/232365 [==============================] - 721s 3ms/step - loss: 0.9376 - acc: 0.7528 - val_loss: 0.6690 - val_acc: 0.8234\n",
      "Epoch 2/3\n",
      "232365/232365 [==============================] - 762s 3ms/step - loss: 0.4990 - acc: 0.8646 - val_loss: 0.5180 - val_acc: 0.8667\n",
      "Epoch 3/3\n",
      "232365/232365 [==============================] - 764s 3ms/step - loss: 0.4165 - acc: 0.8866 - val_loss: 0.4795 - val_acc: 0.8771\n",
      "Train loss: 0.18172475299528312\n",
      "Train accuracy: 0.9504916833432729\n",
      "Test loss: 0.47950298333349256\n",
      "Test accuracy: 0.8770851168811381\n"
     ]
    }
   ],
   "source": [
    "import keras\n",
    "from keras.models import Sequential\n",
    "from keras.layers import Dense, Dropout, Flatten\n",
    "from keras.layers import Conv2D, MaxPooling2D\n",
    "from keras import backend as K\n",
    "import numpy as np\n",
    "\n",
    "batch_size = 128\n",
    "num_classes = 49\n",
    "epochs = 3\n",
    "\n",
    "# input image dimensions\n",
    "img_rows, img_cols = 28, 28\n",
    "\n",
    "def load(f):\n",
    "    return np.load(f)['arr_0']\n",
    "\n",
    "# Load the data\n",
    "x_train = load('kmnist/k49-train-imgs.npz')\n",
    "x_test = load('kmnist/k49-test-imgs.npz')\n",
    "y_train = load('kmnist/k49-train-labels.npz')\n",
    "y_test = load('kmnist/k49-test-labels.npz')\n",
    "\n",
    "if K.image_data_format() == 'channels_first':\n",
    "    x_train = x_train.reshape(x_train.shape[0], 1, img_rows, img_cols)\n",
    "    x_test = x_test.reshape(x_test.shape[0], 1, img_rows, img_cols)\n",
    "    input_shape = (1, img_rows, img_cols)\n",
    "else:\n",
    "    x_train = x_train.reshape(x_train.shape[0], img_rows, img_cols, 1)\n",
    "    x_test = x_test.reshape(x_test.shape[0], img_rows, img_cols, 1)\n",
    "    input_shape = (img_rows, img_cols, 1)\n",
    "\n",
    "x_train = x_train.astype('float32')\n",
    "x_test = x_test.astype('float32')\n",
    "x_train /= 255\n",
    "x_test /= 255\n",
    "print('{} train samples, {} test samples'.format(len(x_train), len(x_test)))\n",
    "\n",
    "# Convert class vectors to binary class matrices\n",
    "y_train = keras.utils.to_categorical(y_train, num_classes)\n",
    "y_test = keras.utils.to_categorical(y_test, num_classes)\n",
    "\n",
    "model = Sequential()\n",
    "model.add(Conv2D(32, kernel_size=(3, 3),\n",
    "                 activation='relu',\n",
    "                 input_shape=input_shape))\n",
    "model.add(Conv2D(64, (3, 3), activation='relu'))\n",
    "model.add(MaxPooling2D(pool_size=(2, 2)))\n",
    "model.add(Dropout(0.25))\n",
    "model.add(Flatten())\n",
    "model.add(Dense(128, activation='relu'))\n",
    "model.add(Dropout(0.5))\n",
    "model.add(Dense(num_classes, activation='softmax'))\n",
    "\n",
    "model.compile(loss=keras.losses.categorical_crossentropy,\n",
    "              optimizer=keras.optimizers.Adadelta(),\n",
    "              metrics=['accuracy'])\n",
    "\n",
    "model.fit(x_train, y_train,\n",
    "          batch_size=batch_size,\n",
    "          epochs=epochs,\n",
    "          verbose=1,\n",
    "          validation_data=(x_test, y_test))\n",
    "\n",
    "train_score = model.evaluate(x_train, y_train, verbose=0)\n",
    "test_score = model.evaluate(x_test, y_test, verbose=0)\n",
    "print('Train loss:', train_score[0])\n",
    "print('Train accuracy:', train_score[1])\n",
    "print('Test loss:', test_score[0])\n",
    "print('Test accuracy:', test_score[1])"
   ]
  },
  {
   "cell_type": "markdown",
   "metadata": {},
   "source": [
    "# Analysis: Visualize Model Predictions using KMNIST Test Data"
   ]
  },
  {
   "cell_type": "code",
   "execution_count": 151,
   "metadata": {},
   "outputs": [],
   "source": [
    "x = model.predict(x_test)"
   ]
  },
  {
   "cell_type": "code",
   "execution_count": 19,
   "metadata": {},
   "outputs": [
    {
     "name": "stdout",
     "output_type": "stream",
     "text": [
      "Hiragana Predicted:  ん\n"
     ]
    },
    {
     "data": {
      "image/png": "[encoded data removed]",
      "text/plain": [
       "<Figure size 432x288 with 1 Axes>"
      ]
     },
     "metadata": {
      "needs_background": "light"
     },
     "output_type": "display_data"
    }
   ],
   "source": [
    "plt.imshow(x_test[3,:,:,0], cmap = \"gray\")\n",
    "print(\"Hiragana Predicted: \", map_unicode[np.argmax(x[3])])"
   ]
  },
  {
   "cell_type": "code",
   "execution_count": 30,
   "metadata": {},
   "outputs": [
    {
     "name": "stdout",
     "output_type": "stream",
     "text": [
      "[['と' 'ね' 'さ' 'ん']\n",
      " ['ひ' 'す' 'の' 'こ']\n",
      " ['の' 'け' 'と' 'か']]\n"
     ]
    },
    {
     "data": {
      "image/png": "[encoded data removed]",
      "text/plain": [
       "<Figure size 720x720 with 12 Axes>"
      ]
     },
     "metadata": {
      "needs_background": "light"
     },
     "output_type": "display_data"
    }
   ],
   "source": [
    "# -*- coding: utf-8 -*-\n",
    "fig = plt.figure(figsize=(10,10))\n",
    "preds = [np.argmax(p) for p in x[:12]]\n",
    "titles = [map_num_char[i] for i in preds]\n",
    "classes = [map_unicode[i] for i in preds]\n",
    "\n",
    "print(np.array(classes).reshape(3,4))\n",
    "\n",
    "for i in range(12):\n",
    "    fig.add_subplot(3,4,i+1)\n",
    "    plt.imshow(x_test[i,:,:,0], cmap = \"gray\")\n",
    "    plt.title(titles[i])\n",
    "    \n"
   ]
  },
  {
   "cell_type": "markdown",
   "metadata": {},
   "source": [
    "# Analysis: Visualize Model Predictions using Custom Test Data"
   ]
  },
  {
   "cell_type": "code",
   "execution_count": 284,
   "metadata": {},
   "outputs": [
    {
     "name": "stdout",
     "output_type": "stream",
     "text": [
      "top 3 character numbers:  9 ,  19 ,  18\n",
      "top 3 results for  ko :  こ ,  と ,  て\n",
      "\n",
      "top 3 character numbers:  47 ,  48 ,  7\n",
      "top 3 results for  n :  ん ,  ゝ ,  く\n",
      "\n",
      "top 3 character numbers:  21 ,  25 ,  15\n",
      "top 3 results for  ni :  に ,  は ,  た\n",
      "\n",
      "top 3 character numbers:  39 ,  16 ,  2\n",
      "top 3 results for  chi :  り ,  ち ,  う\n",
      "\n",
      "top 3 character numbers:  25 ,  8 ,  17\n",
      "top 3 results for  wa :  は ,  け ,  つ\n",
      "\n"
     ]
    },
    {
     "data": {
      "image/png": "[encoded data removed]",
      "text/plain": [
       "<Figure size 720x720 with 5 Axes>"
      ]
     },
     "metadata": {
      "needs_background": "light"
     },
     "output_type": "display_data"
    }
   ],
   "source": [
    "##### Predictions ##########\n",
    "\n",
    "# predict_char(char, name) takes the pre processed image [char], plus the string pronunciation [name]\n",
    "# and applies the trained neural network [model] to display the three most likely hiragana classifications\n",
    "def predict_char(char, name):\n",
    "    pred = model.predict(char)\n",
    "    \n",
    "    sort = pred.argsort()[0]\n",
    "    res = sort[-1]\n",
    "    snd = sort[-2]\n",
    "    thr = sort[-3]\n",
    "    \n",
    "\n",
    "    \n",
    "#     if name == \"wa\":\n",
    "#         # 31 hmm\n",
    "#         print(pred)\n",
    "#         print(sort)\n",
    "#         print(max(pred[0]),pred[0][25])\n",
    "#         print(49-np.where(sort == 25)[0])\n",
    "    \n",
    "    m1 = map_unicode[res] \n",
    "    m2 = map_unicode[snd]\n",
    "    m3 = map_unicode[thr]\n",
    "    \n",
    "    p = m1\n",
    "    \n",
    "    if map_unicode_char[name] == m2:\n",
    "        p = m2\n",
    "    elif map_unicode_char[name] == m3:\n",
    "        p = m3\n",
    "    \n",
    "#     if name == \"chi\":\n",
    "        # 31 hmm\n",
    "#         print(np.sort(pred))\n",
    "#         print(sort)\n",
    "#         print(max(pred[0]),pred[0][16])\n",
    "#        print(\"For chi, 3rd most likely is actually 11th most likely\")\n",
    "#         print(49-np.where(sort == 16)[0])\n",
    "#         p = m3\n",
    "    \n",
    "    print(\"top 3 character numbers: \", res, \", \", snd, \", \", thr)\n",
    "    print(\"top 3 results for \",name, \": \", m1, \", \", m2, \", \", m3 )\n",
    "    print(\"\")\n",
    "    \n",
    "    return p\n",
    "    \n",
    "\n",
    "ko_pred = predict_char(ko, \"ko\")\n",
    "n_pred = predict_char(n, \"n\")\n",
    "ni_pred = predict_char(ni, \"ni\")\n",
    "chi_pred = predict_char(chi, \"chi\")\n",
    "wa_pred = predict_char(wa, \"wa\")\n",
    "\n",
    "\n",
    "# print(map_unicode[16])\n",
    "\n",
    "\n",
    "##### Display ##########\n",
    "\n",
    "fig = plt.figure(figsize=(10,10))\n",
    "fig.add_subplot(1,5,1)\n",
    "plt.imshow(im_ko, cmap = \"gray\")\n",
    "plt.title(\"ko\")\n",
    "fig.add_subplot(1,5,2)\n",
    "plt.imshow(im_n, cmap = \"gray\")\n",
    "plt.title(\"n\")\n",
    "fig.add_subplot(1,5,3)\n",
    "plt.imshow(im_ni, cmap = \"gray\")\n",
    "plt.title(\"ni\")\n",
    "fig.add_subplot(1,5,4)\n",
    "plt.imshow(im_chi, cmap = \"gray\")\n",
    "plt.title(\"chi\")\n",
    "fig.add_subplot(1,5,5)\n",
    "plt.imshow(im_wa, cmap = \"gray\")\n",
    "plt.title(\"wa\");\n",
    "\n"
   ]
  },
  {
   "cell_type": "code",
   "execution_count": 252,
   "metadata": {},
   "outputs": [
    {
     "name": "stdout",
     "output_type": "stream",
     "text": [
      "(array([   26,    84,   263,   266,   300,   336,   420,   496,   574,\n",
      "         582,   655,   712,   743,   747,   762,   788,   866,   875,\n",
      "         898,   905,   977,   999,  1036,  1126,  1170,  1221,  1246,\n",
      "        1385,  1418,  1474,  1481,  1495,  1499,  1501,  1587,  1598,\n",
      "        1608,  1621,  1629,  1642,  1643,  1669,  1778,  1794,  1813,\n",
      "        1834,  1871,  1887,  2012,  2068,  2083,  2191,  2237,  2268,\n",
      "        2331,  2394,  2573,  2654,  2777,  2795,  2860,  2863,  2907,\n",
      "        2937,  3019,  3131,  3171,  3174,  3311,  3328,  3526,  3529,\n",
      "        3603,  3742,  3916,  3956,  3979,  3997,  4038,  4040,  4058,\n",
      "        4147,  4167,  4178,  4283,  4315,  4417,  4477,  4602,  4613,\n",
      "        4631,  4677,  4789,  4824,  4851,  4929,  4987,  5019,  5021,\n",
      "        5025,  5116,  5119,  5137,  5175,  5358,  5365,  5371,  5378,\n",
      "        5386,  5402,  5482,  5506,  5531,  5567,  5579,  5600,  5638,\n",
      "        5651,  5685,  5724,  5741,  5936,  5973,  6049,  6064,  6213,\n",
      "        6222,  6352,  6475,  6485,  6579,  6593,  6635,  6644,  6653,\n",
      "        6675,  6681,  6719,  6806,  6867,  6880,  6894,  6908,  6937,\n",
      "        6944,  7084,  7115,  7210,  7275,  7325,  7336,  7476,  7499,\n",
      "        7560,  7625,  7807,  7860,  7955,  7995,  8032,  8047,  8110,\n",
      "        8129,  8256,  8360,  8423,  8431,  8435,  8513,  8625,  8669,\n",
      "        8693,  8750,  8808,  8854,  8920,  9028,  9084,  9248,  9318,\n",
      "        9350,  9402,  9516,  9517,  9524,  9563,  9578,  9601,  9705,\n",
      "        9733,  9850,  9935,  9993, 10004, 10018, 10031, 10130, 10144,\n",
      "       10203, 10245, 10247, 10443, 10492, 10525, 10546, 10668, 10696,\n",
      "       10797, 10809, 10852, 10935, 10945, 10955, 11010, 11026, 11027,\n",
      "       11028, 11063, 11145, 11176, 11178, 11200, 11223, 11286, 11292,\n",
      "       11329, 11332, 11352, 11440, 11467, 11503, 11528, 11537, 11571,\n",
      "       11575, 11576, 11681, 11689, 11809, 11840, 11930, 12043, 12051,\n",
      "       12070, 12105, 12175, 12193, 12211, 12277, 12290, 12313, 12337,\n",
      "       12356, 12398, 12513, 12527, 12739, 12748, 12852, 12913, 12918,\n",
      "       12922, 12942, 12957, 12971, 12981, 12984, 13014, 13074, 13106,\n",
      "       13146, 13155, 13196, 13264, 13350, 13437, 13465, 13522, 13523,\n",
      "       13530, 13532, 13536, 13557, 13566, 13578, 13601, 13611, 13678,\n",
      "       13821, 13835, 13850, 13884, 13963, 13978, 13983, 13995, 14006,\n",
      "       14066, 14071, 14109, 14111, 14148, 14187, 14268, 14365, 14412,\n",
      "       14414, 14496, 14561, 14707, 14787, 14818, 14838, 14856, 14868,\n",
      "       14870, 14970, 14979, 14990, 15099, 15134, 15162, 15163, 15166,\n",
      "       15167, 15237, 15283, 15320, 15335, 15476, 15491, 15696, 15699,\n",
      "       15771, 15888, 15919, 15944, 15953, 15959, 15960, 16000, 16030,\n",
      "       16033, 16062, 16068, 16100, 16136, 16264, 16270, 16313, 16400,\n",
      "       16423, 16499, 16506, 16525, 16533, 16685, 16780, 16798, 16879,\n",
      "       16962, 16991, 16992, 17015, 17031, 17102, 17220, 17288, 17291,\n",
      "       17521, 17614, 17701, 17713, 17780, 17787, 17901, 17912, 18097,\n",
      "       18107, 18134, 18178, 18179, 18182, 18207, 18213, 18361, 18374,\n",
      "       18376, 18429, 18462, 18502, 18504, 18512, 18526, 18542, 18642,\n",
      "       18682, 18709, 18712, 18774, 18824, 18866, 18966, 19036, 19052,\n",
      "       19063, 19108, 19140, 19243, 19294, 19342, 19438, 19469, 19476,\n",
      "       19499, 19543, 19553, 19583, 19605, 19678, 19684, 19762, 19784,\n",
      "       19945, 19985, 20003, 20031, 20063, 20126, 20188, 20214, 20216,\n",
      "       20226, 20245, 20275, 20279, 20281, 20365, 20505, 20638, 20646,\n",
      "       20731, 20776, 20798, 20864, 20894, 20897, 20921, 20929, 20955,\n",
      "       21053, 21114, 21131, 21364, 21441, 21469, 21470, 21497, 21532,\n",
      "       21603, 21690, 21713, 21720, 21741, 21763, 21778, 21871, 21896,\n",
      "       21904, 21957, 21989, 22012, 22016, 22066, 22080, 22097, 22246,\n",
      "       22328, 22340, 22344, 22366, 22429, 22439, 22444, 22585, 22605,\n",
      "       22707, 22718, 22729, 22770, 22793, 22908, 23007, 23089, 23095,\n",
      "       23136, 23168, 23185, 23232, 23240, 23261, 23282, 23305, 23336,\n",
      "       23338, 23390, 23573, 23597, 23638, 23640, 23659, 23701, 23915,\n",
      "       23941, 23947, 23979, 24016, 24049, 24125, 24318, 24382, 24417,\n",
      "       24435, 24470, 24554, 24570, 24591, 24689, 24693, 24735, 24750,\n",
      "       24794, 24855, 24939, 24952, 24959, 24984, 25125, 25153, 25252,\n",
      "       25253, 25277, 25283, 25364, 25370, 25371, 25383, 25439, 25508,\n",
      "       25512, 25546, 25559, 25624, 25637, 25639, 25642, 25655, 25678,\n",
      "       25711, 25713, 25763, 25801, 25808, 25891, 25914, 25935, 25943,\n",
      "       26098, 26156, 26180, 26198, 26227, 26245, 26246, 26248, 26330,\n",
      "       26378, 26441, 26599, 26600, 26614, 26630, 26716, 26744, 26757,\n",
      "       26791, 26807, 26835, 26849, 26859, 26916, 26928, 26929, 26963,\n",
      "       26976, 27001, 27015, 27091, 27128, 27133, 27192, 27243, 27288,\n",
      "       27318, 27325, 27404, 27444, 27484, 27485, 27538, 27613, 27689,\n",
      "       27690, 27733, 27738, 27856, 27936, 27953, 28028, 28034, 28074,\n",
      "       28081, 28192, 28242, 28275, 28291, 28346, 28417, 28481, 28504,\n",
      "       28545, 28551, 28563, 28591, 28722, 28755, 28775, 28796, 28932,\n",
      "       28967, 28995, 29003, 29186, 29230, 29328, 29475, 29514, 29537,\n",
      "       29586, 29633, 29651, 29655, 29732, 29849, 29856, 29986, 30063,\n",
      "       30100, 30113, 30122, 30126, 30144, 30172, 30261, 30263, 30304,\n",
      "       30316, 30331, 30387, 30415, 30423, 30538, 30565, 30703, 30717,\n",
      "       30821, 30899, 30934, 30936, 30950, 30957, 31086, 31110, 31209,\n",
      "       31235, 31379, 31388, 31452, 31467, 31516, 31558, 31561, 31592,\n",
      "       31625, 31647, 31667, 31689, 31709, 31716, 31758, 31773, 31777,\n",
      "       31793, 31797, 31804, 31852, 31889, 31895, 31911, 31942, 32099,\n",
      "       32199, 32282, 32299, 32306, 32316, 32372, 32482, 32500, 32506,\n",
      "       32570, 32664, 32673, 32682, 32749, 32816, 32940, 32983, 33027,\n",
      "       33067, 33136, 33164, 33176, 33207, 33298, 33321, 33393, 33406,\n",
      "       33522, 33540, 33580, 33660, 33667, 33718, 33727, 33735, 33740,\n",
      "       33765, 33912, 33940, 33992, 34047, 34102, 34184, 34188, 34228,\n",
      "       34231, 34267, 34372, 34403, 34463, 34536, 34562, 34589, 34626,\n",
      "       34707, 34729, 34755, 34985, 35071, 35138, 35230, 35243, 35263,\n",
      "       35317, 35383, 35384, 35438, 35457, 35458, 35476, 35502, 35605,\n",
      "       35609, 35670, 35703, 35729, 35814, 35818, 35855, 35957, 35967,\n",
      "       36012, 36024, 36124, 36141, 36255, 36323, 36357, 36465, 36477,\n",
      "       36534, 36627, 36652, 36681, 36723, 36729, 36757, 36803, 37006,\n",
      "       37041, 37091, 37092, 37101, 37129, 37176, 37266, 37330, 37399,\n",
      "       37401, 37458, 37465, 37479, 37543, 37575, 37578, 37626, 37771,\n",
      "       37840, 37934, 37957, 37962, 37980, 38015, 38036, 38045, 38078,\n",
      "       38098, 38147, 38161, 38163, 38194, 38251, 38327, 38481, 38492]),)\n"
     ]
    },
    {
     "data": {
      "text/plain": [
       "<matplotlib.image.AxesImage at 0x1a6d395ef0>"
      ]
     },
     "execution_count": 252,
     "metadata": {},
     "output_type": "execute_result"
    },
    {
     "data": {
      "image/png": "[encoded data removed]",
      "text/plain": [
       "<Figure size 432x288 with 1 Axes>"
      ]
     },
     "metadata": {
      "needs_background": "light"
     },
     "output_type": "display_data"
    }
   ],
   "source": [
    "results = np.array([np.argmax(x[i]) for i in range(len(x))])\n",
    "chis = np.where(results == 25)\n",
    "print(chis)\n",
    "plt.imshow(x_test[38163,:,:,0], cmap = \"gray\")"
   ]
  },
  {
   "cell_type": "markdown",
   "metadata": {},
   "source": [
    "# Further Application: Machine Translation of Hiragana Phrases"
   ]
  },
  {
   "cell_type": "code",
   "execution_count": 265,
   "metadata": {},
   "outputs": [
    {
     "name": "stdout",
     "output_type": "stream",
     "text": [
      "こんにちは\n",
      "Hello Laasya\n"
     ]
    }
   ],
   "source": [
    "##### TRANSLATION ######\n",
    "from googletrans import Translator\n",
    "\n",
    "translator = Translator()\n",
    "\n",
    "#word = [\"to\", \"te\", \"mo\", \"ya\", \"sa\", \"shi\", \"i\", \"hi\", \"to\"]\n",
    "# word = [\"wa\", \"ta\", \"shi\", \"no\", \"na\", \"ma\", \"e\", \"ha\"]\n",
    "# word = [\"wa\", \"ta\", \"shi\", \"te\"]\n",
    "# tring = \"\".join([map_unicode_char[st] for st in word])\n",
    "\n",
    "string = ko_pred+n_pred+ni_pred+chi_pred+wa_pred\n",
    "\n",
    "print(string)\n",
    "\n",
    "print(translator.translate(string + \" Laasya\").text)"
   ]
  },
  {
   "cell_type": "code",
   "execution_count": null,
   "metadata": {},
   "outputs": [],
   "source": []
  }
 ],
 "metadata": {
  "kernelspec": {
   "display_name": "Python 3",
   "language": "python",
   "name": "python3"
  },
  "language_info": {
   "codemirror_mode": {
    "name": "ipython",
    "version": 3
   },
   "file_extension": ".py",
   "mimetype": "text/x-python",
   "name": "python",
   "nbconvert_exporter": "python",
   "pygments_lexer": "ipython3",
   "version": "3.6.8"
  }
 },
 "nbformat": 4,
 "nbformat_minor": 2
}
